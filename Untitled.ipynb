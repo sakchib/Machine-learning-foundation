{
 "cells": [
  {
   "cell_type": "code",
   "execution_count": 6,
   "id": "581c30c2-98a8-46b9-a565-d14b8ea239ca",
   "metadata": {},
   "outputs": [
    {
     "ename": "NameError",
     "evalue": "name 'python' is not defined",
     "output_type": "error",
     "traceback": [
      "\u001b[1;31m---------------------------------------------------------------------------\u001b[0m",
      "\u001b[1;31mNameError\u001b[0m                                 Traceback (most recent call last)",
      "Cell \u001b[1;32mIn[6], line 1\u001b[0m\n\u001b[1;32m----> 1\u001b[0m \u001b[43mpython\u001b[49m\n",
      "\u001b[1;31mNameError\u001b[0m: name 'python' is not defined"
     ]
    }
   ],
   "source": [
    "python\n"
   ]
  },
  {
   "cell_type": "code",
   "execution_count": null,
   "id": "f60a63ba-dc75-4db1-83cc-bc54c5427199",
   "metadata": {},
   "outputs": [],
   "source": [
    "import numpy as np\n",
    "import matplotlib.pyplot as plt\n",
    "\n",
    "# Time from 0 to 40 minutes, with 1000 points for smooth plotting\n",
    "t = np.linspace(0, 40, 1000)\n",
    "\n",
    "# Distance traveled by the robber: d_r = 2.5 * t\n",
    "d_r = 2.5 * t\n",
    "\n",
    "# Distance traveled by the sheriff: d_s = 3 * (t - 5)\n",
    "d_s = 3 * (t - 5)\n",
    "\n",
    "# Plotting\n",
    "fig, ax = plt.subplots()\n",
    "plt.title('A Bank Robber Caught')\n",
    "plt.xlabel('time (in minutes)')\n",
    "plt.ylabel('distance (in km)')\n",
    "ax.set_xlim([0, 40])\n",
    "ax.set_ylim([0, 100])\n",
    "ax.plot(t, d_r, c='green', label='Robber')\n",
    "ax.plot(t, d_s, c='brown', label='Sheriff')\n",
    "\n",
    "# Highlight the point where they meet\n",
    "ax.axvline(x=30, color='purple', linestyle='--')\n",
    "ax.axhline(y=75, color='purple', linestyle='--')\n",
    "\n",
    "# Show the legend\n",
    "ax.legend()\n",
    "plt.show()\n"
   ]
  }
 ],
 "metadata": {
  "kernelspec": {
   "display_name": "Python 3 (ipykernel)",
   "language": "python",
   "name": "python3"
  },
  "language_info": {
   "codemirror_mode": {
    "name": "ipython",
    "version": 3
   },
   "file_extension": ".py",
   "mimetype": "text/x-python",
   "name": "python",
   "nbconvert_exporter": "python",
   "pygments_lexer": "ipython3",
   "version": "3.12.6"
  }
 },
 "nbformat": 4,
 "nbformat_minor": 5
}
